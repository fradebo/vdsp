{
 "cells": [
  {
   "cell_type": "code",
   "execution_count": null,
   "id": "7f411498",
   "metadata": {},
   "outputs": [],
   "source": [
    "from Graph import *\n",
    "from QTree import *\n",
    "from perceval.rendering.circuit import SymbSkin #just a compact skin"
   ]
  },
  {
   "cell_type": "code",
   "execution_count": null,
   "id": "984bb97f",
   "metadata": {},
   "outputs": [],
   "source": [
    "#generate a random tree with 10 nodes\n",
    "t = random_tree(10)"
   ]
  },
  {
   "cell_type": "code",
   "execution_count": null,
   "id": "8d2cabc8",
   "metadata": {},
   "outputs": [],
   "source": [
    "#build a new Quantum Tree\n",
    "q = QTree(t.head.value)\n",
    "#print the number of outer circles needed to implement this tree with optimal bfs\n",
    "print(build_optimal(t.head, q))"
   ]
  },
  {
   "cell_type": "code",
   "execution_count": null,
   "id": "afe015ff",
   "metadata": {
    "scrolled": false
   },
   "outputs": [],
   "source": [
    "#display the optimal circuit\n",
    "#q.loop.loopify()\n",
    "#pcvl.pdisplay(q.loop.circuit, skin=SymbSkin(compact_display=True))"
   ]
  },
  {
   "cell_type": "code",
   "execution_count": null,
   "id": "535fbd76",
   "metadata": {},
   "outputs": [],
   "source": [
    "#compute and display the input state of the circuit\n",
    "q.loop.calc_in_state()\n",
    "#and show it\n",
    "print(q.loop.in_state)"
   ]
  },
  {
   "cell_type": "code",
   "execution_count": null,
   "id": "13f2f9ac",
   "metadata": {},
   "outputs": [],
   "source": [
    "#display the logically formatted output: logical state of the qubits followed by the corresponding amplitude.\n",
    "q.loop.run_format_smart()"
   ]
  },
  {
   "cell_type": "code",
   "execution_count": null,
   "id": "b06b56f7",
   "metadata": {},
   "outputs": [],
   "source": []
  }
 ],
 "metadata": {
  "kernelspec": {
   "display_name": "Python 3 (ipykernel)",
   "language": "python",
   "name": "python3"
  },
  "language_info": {
   "codemirror_mode": {
    "name": "ipython",
    "version": 3
   },
   "file_extension": ".py",
   "mimetype": "text/x-python",
   "name": "python",
   "nbconvert_exporter": "python",
   "pygments_lexer": "ipython3",
   "version": "3.10.11"
  }
 },
 "nbformat": 4,
 "nbformat_minor": 5
}
