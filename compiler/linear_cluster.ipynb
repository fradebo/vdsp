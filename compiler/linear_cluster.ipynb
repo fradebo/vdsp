{
 "cells": [
  {
   "cell_type": "code",
   "execution_count": 4,
   "id": "7f411498",
   "metadata": {},
   "outputs": [],
   "source": [
    "from Graph import *\n",
    "from QTree import *\n",
    "from perceval.rendering.circuit import SymbSkin #just a compact skin"
   ]
  },
  {
   "cell_type": "code",
   "execution_count": 21,
   "id": "5c0bc1a5",
   "metadata": {},
   "outputs": [],
   "source": [
    "#generate a linear cluster of n vertices\n",
    "n = 3"
   ]
  },
  {
   "cell_type": "code",
   "execution_count": 22,
   "id": "984bb97f",
   "metadata": {},
   "outputs": [],
   "source": [
    "#first let's build the classical tree\n",
    "head = TreeNode(0)\n",
    "t = Tree(head)\n",
    "t.vertices.append(head)\n",
    "\n",
    "for i in range(1, n):\n",
    "    t.add_edge(i-1, i)"
   ]
  },
  {
   "cell_type": "code",
   "execution_count": 23,
   "id": "8d2cabc8",
   "metadata": {},
   "outputs": [
    {
     "name": "stdout",
     "output_type": "stream",
     "text": [
      "Number of outer loops needed:  2\n"
     ]
    }
   ],
   "source": [
    "#build a new Quantum Tree\n",
    "q = QTree(t.head.value)\n",
    "print(\"Number of outer loops needed: \", build_optimal(t.head, q))"
   ]
  },
  {
   "cell_type": "code",
   "execution_count": 24,
   "id": "afe015ff",
   "metadata": {
    "scrolled": false
   },
   "outputs": [
    {
     "data": {
      "image/svg+xml": [
       "<?xml version=\"1.0\" encoding=\"UTF-8\"?>\n",
       "<svg xmlns=\"http://www.w3.org/2000/svg\" xmlns:xlink=\"http://www.w3.org/1999/xlink\"\n",
       "     width=\"387.5\" height=\"656.25\" viewBox=\"-30.0 0 310.0 525.0\">\n",
       "<defs>\n",
       "</defs>\n",
       "<path d=\"M10,25 L25,25\" stroke-width=\"1\" stroke=\"black\" stroke-linejoin=\"miter\" fill=\"none\" />\n",
       "<path d=\"M10,75 L25,75\" stroke-width=\"1\" stroke=\"black\" stroke-linejoin=\"miter\" fill=\"none\" />\n",
       "<path d=\"M10,125 L25,125\" stroke-width=\"1\" stroke=\"black\" stroke-linejoin=\"miter\" fill=\"none\" />\n",
       "<path d=\"M10,175 L25,175\" stroke-width=\"1\" stroke=\"black\" stroke-linejoin=\"miter\" fill=\"none\" />\n",
       "<path d=\"M10,225 L25,225\" stroke-width=\"1\" stroke=\"black\" stroke-linejoin=\"miter\" fill=\"none\" />\n",
       "<path d=\"M10,275 L25,275\" stroke-width=\"1\" stroke=\"black\" stroke-linejoin=\"miter\" fill=\"none\" />\n",
       "<path d=\"M10,325 L25,325\" stroke-width=\"1\" stroke=\"black\" stroke-linejoin=\"miter\" fill=\"none\" />\n",
       "<path d=\"M10,375 L25,375\" stroke-width=\"1\" stroke=\"black\" stroke-linejoin=\"miter\" fill=\"none\" />\n",
       "<path d=\"M10,425 L25,425\" stroke-width=\"1\" stroke=\"black\" stroke-linejoin=\"miter\" fill=\"none\" />\n",
       "<path d=\"M10,475 L25,475\" stroke-width=\"1\" stroke=\"black\" stroke-linejoin=\"miter\" fill=\"none\" />\n",
       "<path d=\"M31.4721,25.0002 C38.3269,25.0002,38.2962,50.0,45.151,50.0 M45.151900000000005,50.0 C38.2961,50.0,38.32690000000001,74.9998,31.472000000000005,74.9998 M45.151900000000005,49.99999999999999 L56.0942,49.99999999999999 M56.0942,49.99999999999999 C62.95,49.99999999999999,62.919200000000004,25.000199999999992,69.7741,25.000199999999992 M56.0942,49.99999999999999 C62.95,49.99999999999999,62.919200000000004,74.9998,69.7741,74.9998 M25.000000000000007,24.999999999999993 L31.500000000000007,24.999999999999993 M31.50090000000001,74.9998 L25.000000000000007,74.9998 M68.8227,74.9998 L75.0,74.9998 M68.5972,24.999799999999993 L75.0,24.999799999999993\" stroke-width=\"1\" stroke=\"black\" stroke-linejoin=\"miter\" fill=\"none\" />\n",
       "<text x=\"50\" y=\"38\" font-size=\"7\" text-anchor=\"middle\"></text>\n",
       "<path d=\"M60,53 L70,53 L70,63 L60,63 Z\" stroke=\"black\" fill=\"aquamarine\" stroke-linejoin=\"miter\" />\n",
       "<text x=\"65\" y=\"60\" font-size=\"6\" text-anchor=\"middle\">H</text>\n",
       "<path d=\"M25,125 L75,125\" stroke=\"black\" stroke-width=\"1\" fill=\"none\" />\n",
       "<path d=\"M25,175 L75,175\" stroke=\"black\" stroke-width=\"1\" fill=\"none\" />\n",
       "<path d=\"M25,225 L75,225\" stroke=\"black\" stroke-width=\"1\" fill=\"none\" />\n",
       "<path d=\"M25,275 L75,275\" stroke=\"black\" stroke-width=\"1\" fill=\"none\" />\n",
       "<path d=\"M27.5,102.5 L72.5,102.5 L72.5,297.5 L27.5,297.5 Z\" stroke=\"black\" fill=\"white\" stroke-linejoin=\"miter\" />\n",
       "<text x=\"35\" y=\"116\" font-size=\"8\" text-anchor=\"start\" font-weight=\"bold\">BSG</text>\n",
       "<path d=\"M81.4721,25.0002 C88.3269,25.0002,88.2962,50.0,95.151,50.0 M95.1519,50.0 C88.2961,50.0,88.3269,74.9998,81.472,74.9998 M95.1519,49.99999999999999 L106.0942,49.99999999999999 M106.0942,49.99999999999999 C112.95,49.99999999999999,112.9192,25.000199999999992,119.7741,25.000199999999992 M106.0942,49.99999999999999 C112.95,49.99999999999999,112.9192,74.9998,119.7741,74.9998 M75.0,24.999999999999993 L81.5,24.999999999999993 M81.5009,74.9998 L75.0,74.9998 M118.8227,74.9998 L125.0,74.9998 M118.5972,24.999799999999993 L125.0,24.999799999999993\" stroke-width=\"1\" stroke=\"black\" stroke-linejoin=\"miter\" fill=\"none\" />\n",
       "<text x=\"100\" y=\"38\" font-size=\"7\" text-anchor=\"middle\">Θ=pi</text>\n",
       "<path d=\"M110,53 L120,53 L120,63 L110,63 Z\" stroke=\"black\" fill=\"aquamarine\" stroke-linejoin=\"miter\" />\n",
       "<text x=\"115\" y=\"60\" font-size=\"6\" text-anchor=\"middle\">H</text>\n",
       "<path d=\"M25,325 L75,325\" stroke=\"black\" stroke-width=\"1\" fill=\"none\" />\n",
       "<path d=\"M25,375 L75,375\" stroke=\"black\" stroke-width=\"1\" fill=\"none\" />\n",
       "<path d=\"M25,425 L75,425\" stroke=\"black\" stroke-width=\"1\" fill=\"none\" />\n",
       "<path d=\"M25,475 L75,475\" stroke=\"black\" stroke-width=\"1\" fill=\"none\" />\n",
       "<path d=\"M27.5,302.5 L72.5,302.5 L72.5,497.5 L27.5,497.5 Z\" stroke=\"black\" fill=\"white\" stroke-linejoin=\"miter\" />\n",
       "<text x=\"35\" y=\"316\" font-size=\"8\" text-anchor=\"start\" font-weight=\"bold\">BSG</text>\n",
       "<path d=\"M81.4721,225.0002 C88.3269,225.0002,88.2962,250.0,95.151,250.0 M95.1519,250.0 C88.2961,250.0,88.3269,274.9998,81.472,274.9998 M95.1519,250.0 L106.0942,250.0 M106.0942,250.0 C112.95,250.0,112.9192,225.0002,119.7741,225.0002 M106.0942,250.0 C112.95,250.0,112.9192,274.9998,119.7741,274.9998 M75.0,225.0 L81.5,225.0 M81.5009,274.9998 L75.0,274.9998 M118.8227,274.9998 L125.0,274.9998 M118.5972,224.9998 L125.0,224.9998\" stroke-width=\"1\" stroke=\"black\" stroke-linejoin=\"miter\" fill=\"none\" />\n",
       "<text x=\"100\" y=\"238\" font-size=\"7\" text-anchor=\"middle\">Θ=pi</text>\n",
       "<path d=\"M110,253 L120,253 L120,263 L110,263 Z\" stroke=\"black\" fill=\"aquamarine\" stroke-linejoin=\"miter\" />\n",
       "<text x=\"115\" y=\"260\" font-size=\"6\" text-anchor=\"middle\">H</text>\n",
       "<path d=\"M75,125 L125,125\" stroke=\"black\" stroke-width=\"1\" fill=\"none\" />\n",
       "<path d=\"M131.4721,75.0002 C138.32690000000002,75.0002,138.2962,100.0,145.151,100.0 M145.1519,100.0 C138.29610000000002,100.0,138.32690000000002,124.9998,131.472,124.9998 M145.1519,100.0 L156.0942,100.0 M156.0942,100.0 C162.95,100.0,162.9192,75.0002,169.7741,75.0002 M156.0942,100.0 C162.95,100.0,162.9192,124.9998,169.7741,124.9998 M125.0,75.0 L131.5,75.0 M131.5009,124.9998 L125.0,124.9998 M168.8227,124.9998 L175.0,124.9998 M168.5972,74.9998 L175.0,74.9998\" stroke-width=\"1\" stroke=\"black\" stroke-linejoin=\"miter\" fill=\"none\" />\n",
       "<text x=\"150\" y=\"88\" font-size=\"7\" text-anchor=\"middle\">Θ=pi</text>\n",
       "<path d=\"M160,103 L170,103 L170,113 L160,113 Z\" stroke=\"black\" fill=\"aquamarine\" stroke-linejoin=\"miter\" />\n",
       "<text x=\"165\" y=\"110\" font-size=\"6\" text-anchor=\"middle\">H</text>\n",
       "<path d=\"M75,175 L175,175\" stroke=\"black\" stroke-width=\"1\" fill=\"none\" />\n",
       "<path d=\"M181.4721,125.0002 C188.32690000000002,125.0002,188.2962,150.0,195.151,150.0 M195.1519,150.0 C188.29610000000002,150.0,188.32690000000002,174.9998,181.472,174.9998 M195.1519,150.0 L206.0942,150.0 M206.0942,150.0 C212.95,150.0,212.9192,125.0002,219.7741,125.0002 M206.0942,150.0 C212.95,150.0,212.9192,174.9998,219.7741,174.9998 M175.0,125.0 L181.5,125.0 M181.5009,174.9998 L175.0,174.9998 M218.8227,174.9998 L225.0,174.9998 M218.5972,124.9998 L225.0,124.9998\" stroke-width=\"1\" stroke=\"black\" stroke-linejoin=\"miter\" fill=\"none\" />\n",
       "<text x=\"200\" y=\"138\" font-size=\"7\" text-anchor=\"middle\"></text>\n",
       "<path d=\"M210,153 L220,153 L220,163 L210,163 Z\" stroke=\"black\" fill=\"aquamarine\" stroke-linejoin=\"miter\" />\n",
       "<text x=\"215\" y=\"160\" font-size=\"6\" text-anchor=\"middle\">H</text>\n",
       "<path d=\"M75,325 L125,325\" stroke=\"black\" stroke-width=\"1\" fill=\"none\" />\n",
       "<path d=\"M131.4721,275.0002 C138.32690000000002,275.0002,138.2962,300.0,145.151,300.0 M145.1519,300.0 C138.29610000000002,300.0,138.32690000000002,324.9998,131.472,324.9998 M145.1519,300.0 L156.0942,300.0 M156.0942,300.0 C162.95,300.0,162.9192,275.0002,169.7741,275.0002 M156.0942,300.0 C162.95,300.0,162.9192,324.9998,169.7741,324.9998 M125.0,275.0 L131.5,275.0 M131.5009,324.9998 L125.0,324.9998 M168.8227,324.9998 L175.0,324.9998 M168.5972,274.9998 L175.0,274.9998\" stroke-width=\"1\" stroke=\"black\" stroke-linejoin=\"miter\" fill=\"none\" />\n",
       "<text x=\"150\" y=\"288\" font-size=\"7\" text-anchor=\"middle\">Θ=pi</text>\n",
       "<path d=\"M160,303 L170,303 L170,313 L160,313 Z\" stroke=\"black\" fill=\"aquamarine\" stroke-linejoin=\"miter\" />\n",
       "<text x=\"165\" y=\"310\" font-size=\"6\" text-anchor=\"middle\">H</text>\n",
       "<path d=\"M75,375 L175,375\" stroke=\"black\" stroke-width=\"1\" fill=\"none\" />\n",
       "<path d=\"M181.4721,325.0002 C188.32690000000002,325.0002,188.2962,350.0,195.151,350.0 M195.1519,350.0 C188.29610000000002,350.0,188.32690000000002,374.9998,181.472,374.9998 M195.1519,350.0 L206.0942,350.0 M206.0942,350.0 C212.95,350.0,212.9192,325.0002,219.7741,325.0002 M206.0942,350.0 C212.95,350.0,212.9192,374.9998,219.7741,374.9998 M175.0,325.0 L181.5,325.0 M181.5009,374.9998 L175.0,374.9998 M218.8227,374.9998 L225.0,374.9998 M218.5972,324.9998 L225.0,324.9998\" stroke-width=\"1\" stroke=\"black\" stroke-linejoin=\"miter\" fill=\"none\" />\n",
       "<text x=\"200\" y=\"338\" font-size=\"7\" text-anchor=\"middle\"></text>\n",
       "<path d=\"M210,353 L220,353 L220,363 L210,363 Z\" stroke=\"black\" fill=\"aquamarine\" stroke-linejoin=\"miter\" />\n",
       "<text x=\"215\" y=\"360\" font-size=\"6\" text-anchor=\"middle\">H</text>\n",
       "<path d=\"M125,25 L175,25\" stroke=\"black\" stroke-width=\"1\" fill=\"none\" />\n",
       "<path d=\"M181.4721,25.0002 C188.32690000000002,25.0002,188.2962,50.0,195.151,50.0 M195.1519,50.0 C188.29610000000002,50.0,188.32690000000002,74.9998,181.472,74.9998 M195.1519,49.99999999999999 L206.0942,49.99999999999999 M206.0942,49.99999999999999 C212.95,49.99999999999999,212.9192,25.000199999999992,219.7741,25.000199999999992 M206.0942,49.99999999999999 C212.95,49.99999999999999,212.9192,74.9998,219.7741,74.9998 M175.0,24.999999999999993 L181.5,24.999999999999993 M181.5009,74.9998 L175.0,74.9998 M218.8227,74.9998 L225.0,74.9998 M218.5972,24.999799999999993 L225.0,24.999799999999993\" stroke-width=\"1\" stroke=\"black\" stroke-linejoin=\"miter\" fill=\"none\" />\n",
       "<text x=\"200\" y=\"38\" font-size=\"7\" text-anchor=\"middle\">Θ=pi</text>\n",
       "<path d=\"M210,53 L220,53 L220,63 L210,63 Z\" stroke=\"black\" fill=\"aquamarine\" stroke-linejoin=\"miter\" />\n",
       "<text x=\"215\" y=\"60\" font-size=\"6\" text-anchor=\"middle\">H</text>\n",
       "<path d=\"M125,225 L175,225\" stroke=\"black\" stroke-width=\"1\" fill=\"none\" />\n",
       "<path d=\"M181.4721,225.0002 C188.32690000000002,225.0002,188.2962,250.0,195.151,250.0 M195.1519,250.0 C188.29610000000002,250.0,188.32690000000002,274.9998,181.472,274.9998 M195.1519,250.0 L206.0942,250.0 M206.0942,250.0 C212.95,250.0,212.9192,225.0002,219.7741,225.0002 M206.0942,250.0 C212.95,250.0,212.9192,274.9998,219.7741,274.9998 M175.0,225.0 L181.5,225.0 M181.5009,274.9998 L175.0,274.9998 M218.8227,274.9998 L225.0,274.9998 M218.5972,224.9998 L225.0,224.9998\" stroke-width=\"1\" stroke=\"black\" stroke-linejoin=\"miter\" fill=\"none\" />\n",
       "<text x=\"200\" y=\"238\" font-size=\"7\" text-anchor=\"middle\">Θ=pi</text>\n",
       "<path d=\"M210,253 L220,253 L220,263 L210,263 Z\" stroke=\"black\" fill=\"aquamarine\" stroke-linejoin=\"miter\" />\n",
       "<text x=\"215\" y=\"260\" font-size=\"6\" text-anchor=\"middle\">H</text>\n",
       "<path d=\"M75,425 L225,425\" stroke=\"black\" stroke-width=\"1\" fill=\"none\" />\n",
       "<path d=\"M75,475 L225,475\" stroke=\"black\" stroke-width=\"1\" fill=\"none\" />\n",
       "<path d=\"M225,25 L240,25\" stroke-width=\"1\" stroke=\"black\" stroke-linejoin=\"miter\" fill=\"none\" />\n",
       "<path d=\"M225,75 L240,75\" stroke-width=\"1\" stroke=\"black\" stroke-linejoin=\"miter\" fill=\"none\" />\n",
       "<path d=\"M225,125 L240,125\" stroke-width=\"1\" stroke=\"black\" stroke-linejoin=\"miter\" fill=\"none\" />\n",
       "<path d=\"M225,175 L240,175\" stroke-width=\"1\" stroke=\"black\" stroke-linejoin=\"miter\" fill=\"none\" />\n",
       "<path d=\"M225,225 L240,225\" stroke-width=\"1\" stroke=\"black\" stroke-linejoin=\"miter\" fill=\"none\" />\n",
       "<path d=\"M225,275 L240,275\" stroke-width=\"1\" stroke=\"black\" stroke-linejoin=\"miter\" fill=\"none\" />\n",
       "<path d=\"M225,325 L240,325\" stroke-width=\"1\" stroke=\"black\" stroke-linejoin=\"miter\" fill=\"none\" />\n",
       "<path d=\"M225,375 L240,375\" stroke-width=\"1\" stroke=\"black\" stroke-linejoin=\"miter\" fill=\"none\" />\n",
       "<path d=\"M225,425 L240,425\" stroke-width=\"1\" stroke=\"black\" stroke-linejoin=\"miter\" fill=\"none\" />\n",
       "<path d=\"M225,475 L240,475\" stroke-width=\"1\" stroke=\"black\" stroke-linejoin=\"miter\" fill=\"none\" />\n",
       "<text x=\"250\" y=\"28\" font-size=\"10\" text-anchor=\"end\">0</text>\n",
       "<text x=\"250\" y=\"78\" font-size=\"10\" text-anchor=\"end\">1</text>\n",
       "<text x=\"250\" y=\"128\" font-size=\"10\" text-anchor=\"end\">2</text>\n",
       "<text x=\"250\" y=\"178\" font-size=\"10\" text-anchor=\"end\">3</text>\n",
       "<text x=\"250\" y=\"228\" font-size=\"10\" text-anchor=\"end\">4</text>\n",
       "<text x=\"250\" y=\"278\" font-size=\"10\" text-anchor=\"end\">5</text>\n",
       "<text x=\"250\" y=\"328\" font-size=\"10\" text-anchor=\"end\">6</text>\n",
       "<text x=\"250\" y=\"378\" font-size=\"10\" text-anchor=\"end\">7</text>\n",
       "<text x=\"250\" y=\"428\" font-size=\"10\" text-anchor=\"end\">8</text>\n",
       "<text x=\"250\" y=\"478\" font-size=\"10\" text-anchor=\"end\">9</text>\n",
       "<text x=\"0\" y=\"28\" font-size=\"10\" text-anchor=\"start\">0</text>\n",
       "<text x=\"0\" y=\"78\" font-size=\"10\" text-anchor=\"start\">1</text>\n",
       "<text x=\"0\" y=\"128\" font-size=\"10\" text-anchor=\"start\">2</text>\n",
       "<text x=\"0\" y=\"178\" font-size=\"10\" text-anchor=\"start\">3</text>\n",
       "<text x=\"0\" y=\"228\" font-size=\"10\" text-anchor=\"start\">4</text>\n",
       "<text x=\"0\" y=\"278\" font-size=\"10\" text-anchor=\"start\">5</text>\n",
       "<text x=\"0\" y=\"328\" font-size=\"10\" text-anchor=\"start\">6</text>\n",
       "<text x=\"0\" y=\"378\" font-size=\"10\" text-anchor=\"start\">7</text>\n",
       "<text x=\"0\" y=\"428\" font-size=\"10\" text-anchor=\"start\">8</text>\n",
       "<text x=\"0\" y=\"478\" font-size=\"10\" text-anchor=\"start\">9</text>\n",
       "</svg>"
      ],
      "text/plain": [
       "<drawsvg.drawing.Drawing at 0x7f82559f4df0>"
      ]
     },
     "execution_count": 24,
     "metadata": {},
     "output_type": "execute_result"
    }
   ],
   "source": [
    "#display the optimal circuit\n",
    "pcvl.pdisplay(q.loop.circuit, skin=SymbSkin(compact_display=True))"
   ]
  },
  {
   "cell_type": "code",
   "execution_count": 25,
   "id": "535fbd76",
   "metadata": {},
   "outputs": [
    {
     "name": "stdout",
     "output_type": "stream",
     "text": [
      "[1, 0, 1, 0, 1, 0, 1, 0, 1, 0]\n"
     ]
    }
   ],
   "source": [
    "#compute and display the input state of the circuit\n",
    "q.loop.calc_in_state()\n",
    "#and print it\n",
    "print(q.loop.in_state)"
   ]
  },
  {
   "cell_type": "code",
   "execution_count": 26,
   "id": "13f2f9ac",
   "metadata": {},
   "outputs": [
    {
     "name": "stdout",
     "output_type": "stream",
     "text": [
      "0 True 1 True 2 True \n",
      "(0.044194173824159196+0j)\n",
      "0 True 1 True 2 False \n",
      "(-0.04419417382415919+0j)\n",
      "0 True 1 False 2 True \n",
      "(0.04419417382415919+0j)\n",
      "0 True 1 False 2 False \n",
      "(0.04419417382415921+0j)\n",
      "0 False 1 True 2 True \n",
      "(-0.044194173824159216+0j)\n",
      "0 False 1 True 2 False \n",
      "(0.04419417382415919+0j)\n",
      "0 False 1 False 2 True \n",
      "(0.04419417382415924+0j)\n",
      "0 False 1 False 2 False \n",
      "(0.04419417382415928+0j)\n"
     ]
    }
   ],
   "source": [
    "#display the logically formatted output: logical state of the qubits followed by the corresponding amplitude.\n",
    "q.loop.run_format()"
   ]
  },
  {
   "cell_type": "code",
   "execution_count": null,
   "id": "b06b56f7",
   "metadata": {},
   "outputs": [],
   "source": []
  }
 ],
 "metadata": {
  "kernelspec": {
   "display_name": "Python 3 (ipykernel)",
   "language": "python",
   "name": "python3"
  },
  "language_info": {
   "codemirror_mode": {
    "name": "ipython",
    "version": 3
   },
   "file_extension": ".py",
   "mimetype": "text/x-python",
   "name": "python",
   "nbconvert_exporter": "python",
   "pygments_lexer": "ipython3",
   "version": "3.10.11"
  }
 },
 "nbformat": 4,
 "nbformat_minor": 5
}
