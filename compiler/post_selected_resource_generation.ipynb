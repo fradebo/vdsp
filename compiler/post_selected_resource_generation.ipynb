{
 "cells": [
  {
   "cell_type": "code",
   "execution_count": 1,
   "id": "22c8665c",
   "metadata": {},
   "outputs": [
    {
     "data": {
      "text/html": [
       "<style>.container { width:100% !important; }</style>"
      ],
      "text/plain": [
       "<IPython.core.display.HTML object>"
      ]
     },
     "metadata": {},
     "output_type": "display_data"
    }
   ],
   "source": [
    "from IPython.display import display, HTML\n",
    "display(HTML(\"<style>.container { width:100% !important; }</style>\"))\n",
    "\n",
    "import perceval as pcvl\n",
    "import perceval.components as symb\n",
    "import numpy as np\n",
    "import sympy as sp\n",
    "\n",
    "from Loop import *\n"
   ]
  },
  {
   "cell_type": "code",
   "execution_count": 11,
   "id": "96b803e5",
   "metadata": {},
   "outputs": [],
   "source": [
    "bp = pcvl.Circuit(4)\n",
    "    \n",
    "bp.add((0,1), pcvl.BS.H())\n",
    "bp.add((2,3), pcvl.BS.H())\n",
    "\n",
    "bp.add((0, 1), symb.BS.H(np.pi))\n",
    "bp.add((1, 2), symb.BS.H(np.pi))\n",
    "bp.add((2, 3), symb.BS.H())\n",
    "\n",
    "bp.add((0, 1), symb.BS.H(np.pi))\n",
    "\n",
    "q0 = Qbit(0, logical=False)\n",
    "q0.id = 0\n",
    "q1 = Qbit(2, logical=False)\n",
    "q1.id = 1\n",
    "\n",
    "l = Loop(circuit=bp, photons=photons_from_qubit([q0, q1]), qbits=[q0, q1])\n"
   ]
  },
  {
   "cell_type": "code",
   "execution_count": 12,
   "id": "77520c08",
   "metadata": {
    "scrolled": false
   },
   "outputs": [
    {
     "data": {
      "image/svg+xml": [
       "<?xml version=\"1.0\" encoding=\"UTF-8\"?>\n",
       "<svg xmlns=\"http://www.w3.org/2000/svg\" xmlns:xlink=\"http://www.w3.org/1999/xlink\"\n",
       "     width=\"632.5\" height=\"281.25\" viewBox=\"-28.0 0 506.0 225.0\">\n",
       "<defs>\n",
       "</defs>\n",
       "<path d=\"M10,25 L25,25\" stroke-width=\"3\" stroke=\"darkred\" stroke-linejoin=\"miter\" fill=\"none\" />\n",
       "<path d=\"M10,75 L25,75\" stroke-width=\"3\" stroke=\"darkred\" stroke-linejoin=\"miter\" fill=\"none\" />\n",
       "<path d=\"M10,125 L25,125\" stroke-width=\"3\" stroke=\"darkred\" stroke-linejoin=\"miter\" fill=\"none\" />\n",
       "<path d=\"M10,175 L25,175\" stroke-width=\"3\" stroke=\"darkred\" stroke-linejoin=\"miter\" fill=\"none\" />\n",
       "<path d=\"M25,25 L53,25 L72,44\" stroke=\"darkred\" stroke-width=\"3\" fill=\"none\" />\n",
       "<path d=\"M78,44 L97,25 L125,25\" stroke=\"darkred\" stroke-width=\"3\" fill=\"none\" />\n",
       "<path d=\"M25,75 L53,75 L72,56\" stroke=\"darkred\" stroke-width=\"3\" fill=\"none\" />\n",
       "<path d=\"M78,56 L97,75 L125,75\" stroke=\"darkred\" stroke-width=\"3\" fill=\"none\" />\n",
       "<path d=\"M50,43 L100,43 L100,57 L50,57 Z\" stroke=\"black\" fill=\"black\" stroke-linejoin=\"miter\" />\n",
       "<text x=\"75\" y=\"85\" font-size=\"7\" text-anchor=\"middle\"></text>\n",
       "<text x=\"75\" y=\"26\" font-size=\"7\" text-anchor=\"middle\"></text>\n",
       "<path d=\"M50,43 L100,43 L100,47 L50,47 Z\" stroke=\"black\" fill=\"lightgray\" stroke-linejoin=\"miter\" />\n",
       "<path d=\"M93,50 L103,50 L103,60 L93,60 Z\" stroke=\"black\" fill=\"aquamarine\" stroke-linejoin=\"miter\" />\n",
       "<text x=\"98\" y=\"57\" font-size=\"6\" text-anchor=\"middle\">H</text>\n",
       "<path d=\"M25,125 L53,125 L72,144\" stroke=\"darkred\" stroke-width=\"3\" fill=\"none\" />\n",
       "<path d=\"M78,144 L97,125 L125,125\" stroke=\"darkred\" stroke-width=\"3\" fill=\"none\" />\n",
       "<path d=\"M25,175 L53,175 L72,156\" stroke=\"darkred\" stroke-width=\"3\" fill=\"none\" />\n",
       "<path d=\"M78,156 L97,175 L125,175\" stroke=\"darkred\" stroke-width=\"3\" fill=\"none\" />\n",
       "<path d=\"M50,143 L100,143 L100,157 L50,157 Z\" stroke=\"black\" fill=\"black\" stroke-linejoin=\"miter\" />\n",
       "<text x=\"75\" y=\"185\" font-size=\"7\" text-anchor=\"middle\"></text>\n",
       "<text x=\"75\" y=\"126\" font-size=\"7\" text-anchor=\"middle\"></text>\n",
       "<path d=\"M50,143 L100,143 L100,147 L50,147 Z\" stroke=\"black\" fill=\"lightgray\" stroke-linejoin=\"miter\" />\n",
       "<path d=\"M93,150 L103,150 L103,160 L93,160 Z\" stroke=\"black\" fill=\"aquamarine\" stroke-linejoin=\"miter\" />\n",
       "<text x=\"98\" y=\"157\" font-size=\"6\" text-anchor=\"middle\">H</text>\n",
       "<path d=\"M125,25 L153,25 L172,44\" stroke=\"darkred\" stroke-width=\"3\" fill=\"none\" />\n",
       "<path d=\"M178,44 L197,25 L225,25\" stroke=\"darkred\" stroke-width=\"3\" fill=\"none\" />\n",
       "<path d=\"M125,75 L153,75 L172,56\" stroke=\"darkred\" stroke-width=\"3\" fill=\"none\" />\n",
       "<path d=\"M178,56 L197,75 L225,75\" stroke=\"darkred\" stroke-width=\"3\" fill=\"none\" />\n",
       "<path d=\"M150,43 L200,43 L200,57 L150,57 Z\" stroke=\"black\" fill=\"black\" stroke-linejoin=\"miter\" />\n",
       "<text x=\"175\" y=\"80\" font-size=\"7\" text-anchor=\"middle\"></text>\n",
       "<text x=\"175\" y=\"26\" font-size=\"7\" text-anchor=\"middle\">Θ=pi</text>\n",
       "<path d=\"M150,43 L200,43 L200,47 L150,47 Z\" stroke=\"black\" fill=\"lightgray\" stroke-linejoin=\"miter\" />\n",
       "<path d=\"M193,50 L203,50 L203,60 L193,60 Z\" stroke=\"black\" fill=\"aquamarine\" stroke-linejoin=\"miter\" />\n",
       "<text x=\"198\" y=\"57\" font-size=\"6\" text-anchor=\"middle\">H</text>\n",
       "<path d=\"M125,125 L225,125\" stroke=\"darkred\" stroke-width=\"3\" fill=\"none\" />\n",
       "<path d=\"M225,75 L253,75 L272,94\" stroke=\"darkred\" stroke-width=\"3\" fill=\"none\" />\n",
       "<path d=\"M278,94 L297,75 L325,75\" stroke=\"darkred\" stroke-width=\"3\" fill=\"none\" />\n",
       "<path d=\"M225,125 L253,125 L272,106\" stroke=\"darkred\" stroke-width=\"3\" fill=\"none\" />\n",
       "<path d=\"M278,106 L297,125 L325,125\" stroke=\"darkred\" stroke-width=\"3\" fill=\"none\" />\n",
       "<path d=\"M250,93 L300,93 L300,107 L250,107 Z\" stroke=\"black\" fill=\"black\" stroke-linejoin=\"miter\" />\n",
       "<text x=\"275\" y=\"130\" font-size=\"7\" text-anchor=\"middle\"></text>\n",
       "<text x=\"275\" y=\"76\" font-size=\"7\" text-anchor=\"middle\">Θ=pi</text>\n",
       "<path d=\"M250,93 L300,93 L300,97 L250,97 Z\" stroke=\"black\" fill=\"lightgray\" stroke-linejoin=\"miter\" />\n",
       "<path d=\"M293,100 L303,100 L303,110 L293,110 Z\" stroke=\"black\" fill=\"aquamarine\" stroke-linejoin=\"miter\" />\n",
       "<text x=\"298\" y=\"107\" font-size=\"6\" text-anchor=\"middle\">H</text>\n",
       "<path d=\"M125,175 L325,175\" stroke=\"darkred\" stroke-width=\"3\" fill=\"none\" />\n",
       "<path d=\"M325,125 L353,125 L372,144\" stroke=\"darkred\" stroke-width=\"3\" fill=\"none\" />\n",
       "<path d=\"M378,144 L397,125 L425,125\" stroke=\"darkred\" stroke-width=\"3\" fill=\"none\" />\n",
       "<path d=\"M325,175 L353,175 L372,156\" stroke=\"darkred\" stroke-width=\"3\" fill=\"none\" />\n",
       "<path d=\"M378,156 L397,175 L425,175\" stroke=\"darkred\" stroke-width=\"3\" fill=\"none\" />\n",
       "<path d=\"M350,143 L400,143 L400,157 L350,157 Z\" stroke=\"black\" fill=\"black\" stroke-linejoin=\"miter\" />\n",
       "<text x=\"375\" y=\"185\" font-size=\"7\" text-anchor=\"middle\"></text>\n",
       "<text x=\"375\" y=\"126\" font-size=\"7\" text-anchor=\"middle\"></text>\n",
       "<path d=\"M350,143 L400,143 L400,147 L350,147 Z\" stroke=\"black\" fill=\"lightgray\" stroke-linejoin=\"miter\" />\n",
       "<path d=\"M393,150 L403,150 L403,160 L393,160 Z\" stroke=\"black\" fill=\"aquamarine\" stroke-linejoin=\"miter\" />\n",
       "<text x=\"398\" y=\"157\" font-size=\"6\" text-anchor=\"middle\">H</text>\n",
       "<path d=\"M225,25 L325,25\" stroke=\"darkred\" stroke-width=\"3\" fill=\"none\" />\n",
       "<path d=\"M325,25 L353,25 L372,44\" stroke=\"darkred\" stroke-width=\"3\" fill=\"none\" />\n",
       "<path d=\"M378,44 L397,25 L425,25\" stroke=\"darkred\" stroke-width=\"3\" fill=\"none\" />\n",
       "<path d=\"M325,75 L353,75 L372,56\" stroke=\"darkred\" stroke-width=\"3\" fill=\"none\" />\n",
       "<path d=\"M378,56 L397,75 L425,75\" stroke=\"darkred\" stroke-width=\"3\" fill=\"none\" />\n",
       "<path d=\"M350,43 L400,43 L400,57 L350,57 Z\" stroke=\"black\" fill=\"black\" stroke-linejoin=\"miter\" />\n",
       "<text x=\"375\" y=\"80\" font-size=\"7\" text-anchor=\"middle\"></text>\n",
       "<text x=\"375\" y=\"26\" font-size=\"7\" text-anchor=\"middle\">Θ=pi</text>\n",
       "<path d=\"M350,43 L400,43 L400,47 L350,47 Z\" stroke=\"black\" fill=\"lightgray\" stroke-linejoin=\"miter\" />\n",
       "<path d=\"M393,50 L403,50 L403,60 L393,60 Z\" stroke=\"black\" fill=\"aquamarine\" stroke-linejoin=\"miter\" />\n",
       "<text x=\"398\" y=\"57\" font-size=\"6\" text-anchor=\"middle\">H</text>\n",
       "<path d=\"M425,25 L440,25\" stroke-width=\"3\" stroke=\"darkred\" stroke-linejoin=\"miter\" fill=\"none\" />\n",
       "<path d=\"M425,75 L440,75\" stroke-width=\"3\" stroke=\"darkred\" stroke-linejoin=\"miter\" fill=\"none\" />\n",
       "<path d=\"M425,125 L440,125\" stroke-width=\"3\" stroke=\"darkred\" stroke-linejoin=\"miter\" fill=\"none\" />\n",
       "<path d=\"M425,175 L440,175\" stroke-width=\"3\" stroke=\"darkred\" stroke-linejoin=\"miter\" fill=\"none\" />\n",
       "<text x=\"450\" y=\"28\" font-size=\"6\" text-anchor=\"end\">0</text>\n",
       "<text x=\"450\" y=\"78\" font-size=\"6\" text-anchor=\"end\">1</text>\n",
       "<text x=\"450\" y=\"128\" font-size=\"6\" text-anchor=\"end\">2</text>\n",
       "<text x=\"450\" y=\"178\" font-size=\"6\" text-anchor=\"end\">3</text>\n",
       "<text x=\"0\" y=\"28\" font-size=\"6\" text-anchor=\"start\">0</text>\n",
       "<text x=\"0\" y=\"78\" font-size=\"6\" text-anchor=\"start\">1</text>\n",
       "<text x=\"0\" y=\"128\" font-size=\"6\" text-anchor=\"start\">2</text>\n",
       "<text x=\"0\" y=\"178\" font-size=\"6\" text-anchor=\"start\">3</text>\n",
       "</svg>"
      ],
      "text/plain": [
       "<drawsvg.drawing.Drawing at 0x7fe5fe880d60>"
      ]
     },
     "execution_count": 12,
     "metadata": {},
     "output_type": "execute_result"
    }
   ],
   "source": [
    "pcvl.pdisplay(l.circuit)"
   ]
  },
  {
   "cell_type": "code",
   "execution_count": 13,
   "id": "7ab856d1",
   "metadata": {},
   "outputs": [
    {
     "name": "stdout",
     "output_type": "stream",
     "text": [
      "[1, 0, 1, 0]\n"
     ]
    }
   ],
   "source": [
    "l.calc_in_state()\n",
    "print(l.in_state)"
   ]
  },
  {
   "cell_type": "code",
   "execution_count": 14,
   "id": "32b88ea8",
   "metadata": {},
   "outputs": [
    {
     "name": "stdout",
     "output_type": "stream",
     "text": [
      "[[0, 0, 0, 2], [0, 0, 1, 1], [0, 0, 2, 0], [0, 1, 0, 1], [0, 1, 1, 0], [0, 2, 0, 0], [1, 0, 0, 1], [1, 0, 1, 0], [1, 1, 0, 0], [2, 0, 0, 0]]\n"
     ]
    }
   ],
   "source": [
    "l.calc_out_states(logical=False, witness=False)\n",
    "print(l.out_states)"
   ]
  },
  {
   "cell_type": "code",
   "execution_count": 15,
   "id": "c5de087f",
   "metadata": {},
   "outputs": [
    {
     "name": "stdout",
     "output_type": "stream",
     "text": [
      "[0, 0, 0, 2]\n",
      "(-0.35355339059327373+0j)\n",
      "[0, 0, 2, 0]\n",
      "(0.35355339059327373+0j)\n",
      "[0, 1, 0, 1]\n",
      "(-0.35355339059327373+0j)\n",
      "[0, 1, 1, 0]\n",
      "(0.3535533905932737+0j)\n",
      "[1, 0, 0, 1]\n",
      "(0.35355339059327373+0j)\n",
      "[1, 0, 1, 0]\n",
      "(0.3535533905932739+0j)\n",
      "[1, 1, 0, 0]\n",
      "(0.5+0j)\n",
      "[0, 1, 0, 1]\n",
      "(-0.35355339059327373+0j)\n",
      "[0, 1, 1, 0]\n",
      "(0.3535533905932737+0j)\n",
      "[1, 0, 0, 1]\n",
      "(0.35355339059327373+0j)\n",
      "[1, 0, 1, 0]\n",
      "(0.3535533905932739+0j)\n"
     ]
    }
   ],
   "source": [
    "l.run()"
   ]
  },
  {
   "cell_type": "code",
   "execution_count": 16,
   "id": "c961eaf5",
   "metadata": {},
   "outputs": [
    {
     "name": "stdout",
     "output_type": "stream",
     "text": [
      "0 True 1 True \n",
      "(-0.35355339059327373+0j)\n",
      "0 True 1 False \n",
      "(0.3535533905932737+0j)\n",
      "0 False 1 True \n",
      "(0.35355339059327373+0j)\n",
      "0 False 1 False \n",
      "(0.3535533905932739+0j)\n"
     ]
    }
   ],
   "source": [
    "l.run_format()"
   ]
  },
  {
   "cell_type": "code",
   "execution_count": null,
   "id": "dcf78b8c",
   "metadata": {},
   "outputs": [],
   "source": []
  }
 ],
 "metadata": {
  "kernelspec": {
   "display_name": "Python 3 (ipykernel)",
   "language": "python",
   "name": "python3"
  },
  "language_info": {
   "codemirror_mode": {
    "name": "ipython",
    "version": 3
   },
   "file_extension": ".py",
   "mimetype": "text/x-python",
   "name": "python",
   "nbconvert_exporter": "python",
   "pygments_lexer": "ipython3",
   "version": "3.10.11"
  }
 },
 "nbformat": 4,
 "nbformat_minor": 5
}
