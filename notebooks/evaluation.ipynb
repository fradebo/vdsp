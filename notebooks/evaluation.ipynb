{
 "cells": [
  {
   "cell_type": "code",
   "execution_count": 1,
   "id": "de3024e7",
   "metadata": {},
   "outputs": [],
   "source": [
    "import pandas as pd\n",
    "import matplotlib"
   ]
  },
  {
   "cell_type": "code",
   "execution_count": 31,
   "id": "8a701c91",
   "metadata": {},
   "outputs": [
    {
     "data": {
      "text/plain": [
       "<matplotlib.legend.Legend at 0x7c42521d4250>"
      ]
     },
     "execution_count": 31,
     "metadata": {},
     "output_type": "execute_result"
    },
    {
     "data": {
      "image/png": "[encoded data removed]",
      "text/plain": [
       "<Figure size 640x480 with 1 Axes>"
      ]
     },
     "metadata": {},
     "output_type": "display_data"
    }
   ],
   "source": [
    "df = pd.read_csv('../First Passage/FP_data.csv')\n",
    "\n",
    "success_probabilities = ['0.5', '0.75', '0.8', '0.9','0.95','1.0'] #0.1 omitted\n",
    "for row in range(len(df['max_degree'])):\n",
    "    first_passage_times = [df[prob][row] for prob in success_probabilities]\n",
    "    plot = matplotlib.pyplot.scatter(success_probabilities,first_passage_times, label=df['Unnamed: 0'][row])\n",
    "\n",
    "matplotlib.pyplot.legend()"
   ]
  },
  {
   "cell_type": "code",
   "execution_count": 25,
   "id": "b41747ef",
   "metadata": {},
   "outputs": [
    {
     "data": {
      "text/html": [
       "<div>\n",
       "<style scoped>\n",
       "    .dataframe tbody tr th:only-of-type {\n",
       "        vertical-align: middle;\n",
       "    }\n",
       "\n",
       "    .dataframe tbody tr th {\n",
       "        vertical-align: top;\n",
       "    }\n",
       "\n",
       "    .dataframe thead th {\n",
       "        text-align: right;\n",
       "    }\n",
       "</style>\n",
       "<table border=\"1\" class=\"dataframe\">\n",
       "  <thead>\n",
       "    <tr style=\"text-align: right;\">\n",
       "      <th></th>\n",
       "      <th>Unnamed: 0</th>\n",
       "      <th>max_degree</th>\n",
       "      <th>depth</th>\n",
       "      <th>outer_loops</th>\n",
       "      <th>0.1</th>\n",
       "      <th>0.5</th>\n",
       "      <th>0.75</th>\n",
       "      <th>0.8</th>\n",
       "      <th>0.9</th>\n",
       "      <th>0.95</th>\n",
       "      <th>1.0</th>\n",
       "    </tr>\n",
       "  </thead>\n",
       "  <tbody>\n",
       "    <tr>\n",
       "      <th>0</th>\n",
       "      <td>min_degree</td>\n",
       "      <td>3</td>\n",
       "      <td>5</td>\n",
       "      <td>5</td>\n",
       "      <td>1.417566e+07</td>\n",
       "      <td>102.0</td>\n",
       "      <td>15.661637</td>\n",
       "      <td>12.680969</td>\n",
       "      <td>9.057978</td>\n",
       "      <td>7.900865</td>\n",
       "      <td>7.0</td>\n",
       "    </tr>\n",
       "    <tr>\n",
       "      <th>1</th>\n",
       "      <td>dfs</td>\n",
       "      <td>4</td>\n",
       "      <td>6</td>\n",
       "      <td>3</td>\n",
       "      <td>1.417566e+07</td>\n",
       "      <td>102.0</td>\n",
       "      <td>15.661637</td>\n",
       "      <td>12.680969</td>\n",
       "      <td>9.057978</td>\n",
       "      <td>7.900865</td>\n",
       "      <td>7.0</td>\n",
       "    </tr>\n",
       "    <tr>\n",
       "      <th>2</th>\n",
       "      <td>longest_line</td>\n",
       "      <td>4</td>\n",
       "      <td>6</td>\n",
       "      <td>3</td>\n",
       "      <td>7.600727e+07</td>\n",
       "      <td>181.0</td>\n",
       "      <td>21.721232</td>\n",
       "      <td>17.185379</td>\n",
       "      <td>11.883870</td>\n",
       "      <td>10.249449</td>\n",
       "      <td>9.0</td>\n",
       "    </tr>\n",
       "    <tr>\n",
       "      <th>3</th>\n",
       "      <td>min_degree_longest_line</td>\n",
       "      <td>3</td>\n",
       "      <td>5</td>\n",
       "      <td>5</td>\n",
       "      <td>7.600727e+07</td>\n",
       "      <td>181.0</td>\n",
       "      <td>21.721232</td>\n",
       "      <td>17.185379</td>\n",
       "      <td>11.883870</td>\n",
       "      <td>10.249449</td>\n",
       "      <td>9.0</td>\n",
       "    </tr>\n",
       "  </tbody>\n",
       "</table>\n",
       "</div>"
      ],
      "text/plain": [
       "                Unnamed: 0  max_degree  depth  outer_loops           0.1  \\\n",
       "0               min_degree           3      5            5  1.417566e+07   \n",
       "1                      dfs           4      6            3  1.417566e+07   \n",
       "2             longest_line           4      6            3  7.600727e+07   \n",
       "3  min_degree_longest_line           3      5            5  7.600727e+07   \n",
       "\n",
       "     0.5       0.75        0.8        0.9       0.95  1.0  \n",
       "0  102.0  15.661637  12.680969   9.057978   7.900865  7.0  \n",
       "1  102.0  15.661637  12.680969   9.057978   7.900865  7.0  \n",
       "2  181.0  21.721232  17.185379  11.883870  10.249449  9.0  \n",
       "3  181.0  21.721232  17.185379  11.883870  10.249449  9.0  "
      ]
     },
     "execution_count": 25,
     "metadata": {},
     "output_type": "execute_result"
    }
   ],
   "source": [
    "df"
   ]
  },
  {
   "cell_type": "code",
   "execution_count": null,
   "id": "379ab754",
   "metadata": {},
   "outputs": [],
   "source": []
  }
 ],
 "metadata": {
  "kernelspec": {
   "display_name": "Python 3 (ipykernel)",
   "language": "python",
   "name": "python3"
  },
  "language_info": {
   "codemirror_mode": {
    "name": "ipython",
    "version": 3
   },
   "file_extension": ".py",
   "mimetype": "text/x-python",
   "name": "python",
   "nbconvert_exporter": "python",
   "pygments_lexer": "ipython3",
   "version": "3.11.5"
  }
 },
 "nbformat": 4,
 "nbformat_minor": 5
}
